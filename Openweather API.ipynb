{
 "cells": [
  {
   "cell_type": "code",
   "execution_count": 3,
   "metadata": {},
   "outputs": [
    {
     "name": "stdout",
     "output_type": "stream",
     "text": [
      "Enter your city :Delhi\n",
      "<Response [200]>\n",
      "{'coord': {'lon': 77.22, 'lat': 28.67}, 'weather': [{'id': 701, 'main': 'Mist', 'description': 'mist', 'icon': '50n'}], 'base': 'stations', 'main': {'temp': 302.99, 'feels_like': 308.69, 'temp_min': 300.15, 'temp_max': 305.93, 'pressure': 1003, 'humidity': 83}, 'visibility': 3500, 'wind': {'speed': 2.54, 'deg': 153}, 'clouds': {'all': 75}, 'dt': 1596041069, 'sys': {'type': 1, 'id': 9165, 'country': 'IN', 'sunrise': 1595981446, 'sunset': 1596030252}, 'timezone': 19800, 'id': 1273294, 'name': 'Delhi', 'cod': 200}\n"
     ]
    }
   ],
   "source": [
    "import requests\n",
    "city= input('Enter your city :')\n",
    "url = 'https://api.openweathermap.org/data/2.5/weather?q={}&appid=f1248d8a4a01e2272d0320f907b62698'.format(city)\n",
    "\n",
    "res=requests.get(url)\n",
    "\n",
    "data=res.json()\n",
    "print(res)\n",
    "print(data)"
   ]
  },
  {
   "cell_type": "code",
   "execution_count": 4,
   "metadata": {},
   "outputs": [
    {
     "name": "stdout",
     "output_type": "stream",
     "text": [
      "Enter your city :Mumbai\n",
      "<Response [200]>\n",
      "{'coord': {'lon': 72.85, 'lat': 19.01}, 'weather': [{'id': 721, 'main': 'Haze', 'description': 'haze', 'icon': '50n'}], 'base': 'stations', 'main': {'temp': 301.15, 'feels_like': 306.02, 'temp_min': 301.15, 'temp_max': 301.15, 'pressure': 1004, 'humidity': 94}, 'visibility': 3000, 'wind': {'speed': 4.02, 'deg': 284}, 'clouds': {'all': 75}, 'dt': 1596041224, 'sys': {'type': 1, 'id': 9052, 'country': 'IN', 'sunrise': 1595983467, 'sunset': 1596030328}, 'timezone': 19800, 'id': 1275339, 'name': 'Mumbai', 'cod': 200}\n"
     ]
    }
   ],
   "source": [
    "import requests\n",
    "city= input('Enter your city :')\n",
    "url = 'https://api.openweathermap.org/data/2.5/weather?q={}&appid=f1248d8a4a01e2272d0320f907b62698'.format(city)\n",
    "\n",
    "res=requests.get(url)\n",
    "\n",
    "data=res.json()\n",
    "print(res)\n",
    "print(data)"
   ]
  },
  {
   "cell_type": "code",
   "execution_count": null,
   "metadata": {},
   "outputs": [],
   "source": []
  }
 ],
 "metadata": {
  "kernelspec": {
   "display_name": "Python 3",
   "language": "python",
   "name": "python3"
  },
  "language_info": {
   "codemirror_mode": {
    "name": "ipython",
    "version": 3
   },
   "file_extension": ".py",
   "mimetype": "text/x-python",
   "name": "python",
   "nbconvert_exporter": "python",
   "pygments_lexer": "ipython3",
   "version": "3.7.4"
  }
 },
 "nbformat": 4,
 "nbformat_minor": 2
}
